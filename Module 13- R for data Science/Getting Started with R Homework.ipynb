{
 "cells": [
  {
   "cell_type": "markdown",
   "metadata": {},
   "source": [
    "Create a How To Page in a jupyter notebook and upload to your github repo, then submit your repo libk\n",
    "\n",
    "Use these links to help you and guide you:\n",
    "\n",
    "https://www.guru99.com/download-install-r-rstudio.html\n",
    "\n",
    "https://dss.princeton.edu/training/RStudio101.pdf"
   ]
  },
  {
   "cell_type": "markdown",
   "metadata": {},
   "source": [
    "Install Anaconda ( make sure to answer the following questions ) \n",
    "\n",
    "What is Anaconda?\n",
    "\n",
    "What is an IDE?\n",
    "\n",
    "Why use Anaconda?"
   ]
  },
  {
   "cell_type": "markdown",
   "metadata": {},
   "source": [
    "Anaconda is a free open source software. It is used largely in the data science community during machine learning projects and data analysis"
   ]
  },
  {
   "cell_type": "markdown",
   "metadata": {},
   "source": [
    "An IDE is an Integrated development environment"
   ]
  },
  {
   "cell_type": "markdown",
   "metadata": {},
   "source": [
    "Anoconda has both python and R environments, and other tools which makes data analysis easier"
   ]
  },
  {
   "cell_type": "markdown",
   "metadata": {},
   "source": [
    "Install R \n",
    "\n",
    "What is R \n",
    "\n",
    "Who uses are R?\n",
    "\n",
    "How is R different from python?"
   ]
  },
  {
   "cell_type": "markdown",
   "metadata": {},
   "source": [
    "R is an open source language used for statistical computing and graphics."
   ]
  },
  {
   "cell_type": "markdown",
   "metadata": {},
   "source": [
    "R was traditionally used by academics and researchers but now expanding into the enterprise market"
   ]
  },
  {
   "cell_type": "markdown",
   "metadata": {},
   "source": [
    "R is mainly used for statistical computing while python has a more general scope in terms of data science"
   ]
  },
  {
   "cell_type": "markdown",
   "metadata": {},
   "source": [
    "Install R Studio \n",
    "\n",
    "What is R Studio?\n",
    "\n",
    "What is a script?\n",
    "\n",
    "What is a notebook?\n",
    "\n",
    "Post a picture of the R studio screen and explain the different parts like the console\n",
    "\n",
    "What is the difference between R Notebook - R Markdown - Jupyter Notebook*** ( MUST ANSWER )\n",
    "\n",
    "\n",
    "Add any basic tips for those coding in R like the one below\n",
    "\n",
    "\n",
    "Tips: For any documentation or usage of the function in R Studio, just type the name of the function and then press cntrl+space to get the auto completion window.You can use ? before any function name to view the official documentation"
   ]
  },
  {
   "cell_type": "markdown",
   "metadata": {},
   "source": [
    "R studio is the IDE for R"
   ]
  },
  {
   "cell_type": "markdown",
   "metadata": {},
   "source": [
    "A script is a series of command that can be executed without being compiled"
   ]
  },
  {
   "cell_type": "markdown",
   "metadata": {},
   "source": [
    "A notebook is a server-client application that allows running and editing of notebook documents via a web browser"
   ]
  },
  {
   "cell_type": "markdown",
   "metadata": {},
   "source": [
    "An R Notebook is an R Markdown document with chunks that can be executed independently and interactively, with output visible immediately beneath the input"
   ]
  },
  {
   "cell_type": "markdown",
   "metadata": {},
   "source": [
    "R Markdown is a file format for making dynamic documents with R"
   ]
  },
  {
   "cell_type": "code",
   "execution_count": null,
   "metadata": {},
   "outputs": [],
   "source": []
  }
 ],
 "metadata": {
  "kernelspec": {
   "display_name": "Python 3",
   "language": "python",
   "name": "python3"
  },
  "language_info": {
   "codemirror_mode": {
    "name": "ipython",
    "version": 3
   },
   "file_extension": ".py",
   "mimetype": "text/x-python",
   "name": "python",
   "nbconvert_exporter": "python",
   "pygments_lexer": "ipython3",
   "version": "3.8.5"
  }
 },
 "nbformat": 4,
 "nbformat_minor": 4
}
