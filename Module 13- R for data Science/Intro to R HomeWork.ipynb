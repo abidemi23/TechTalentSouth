{
 "cells": [
  {
   "cell_type": "markdown",
   "metadata": {},
   "source": [
    "Creating vectors/factors and dataframes\n",
    "\n",
    "We are performing RNA-Seq on cancer samples being treated with three different types of treatment (A, B, and P). \n",
    "\n",
    "You have 12 samples total, with 4 replicates per treatment. Write the R code you would use to construct your metadata table as described below.\n",
    "\n",
    "Create the vectors/factors for each column (Hint: you can type out each vector/factor, or if you want the process go faster try exploring the rep() function).\n",
    "\n",
    "Put them together into a dataframe called meta.\n",
    "\n",
    "Use the rownames() function to assign row names to the dataframe (Hint: you can type out the row names as a vector, or if you want the process go faster try exploring the paste() function).\n",
    "\n",
    "Your finished metadata table should have information for the variables sex, stage, treatment, and myc levels"
   ]
  },
  {
   "cell_type": "code",
   "execution_count": 115,
   "metadata": {},
   "outputs": [
    {
     "name": "stdout",
     "output_type": "stream",
     "text": [
      "         sex stage treatment  myc\n",
      "sample1    M     I         A 2343\n",
      "sample2    F    II         A  457\n",
      "sample3    M    II         A 4593\n",
      "sample4    F     I         A 9035\n",
      "sample5    M    II         B 3450\n",
      "sample6    F    II         B 3524\n",
      "sample7    M     I         B  958\n",
      "sample8    F    II         B 1053\n",
      "sample9    M    II         P 8674\n",
      "sample10   F     I         P 3424\n",
      "sample11   M    II         P  463\n",
      "sample12   F    II         P 5105\n"
     ]
    }
   ],
   "source": [
    "meta <- data.frame(\n",
    "    sex = rep(c(\"M\", \"F\"), 6),\n",
    "    stage = rep(c(\"I\", \"II\", \"II\"), 4),\n",
    "    treatment = rep(c(\"A\", \"B\", \"P\"), each=4),\n",
    "    myc = c(2343, 457, 4593, 9035,3450,3524,958,1053,8674,3424,463,5105))\n",
    "\n",
    "row.names(meta)<-paste(\"sample\",row.names(meta), sep=\"\")\n",
    "print(meta)"
   ]
  },
  {
   "cell_type": "markdown",
   "metadata": {},
   "source": [
    "return only the treatment and sex columns using []:"
   ]
  },
  {
   "cell_type": "code",
   "execution_count": 34,
   "metadata": {
    "scrolled": true
   },
   "outputs": [
    {
     "data": {
      "text/html": [
       "<table>\n",
       "<thead><tr><th></th><th scope=col>sex</th><th scope=col>stage</th></tr></thead>\n",
       "<tbody>\n",
       "\t<tr><th scope=row>sample1</th><td>M </td><td>I </td></tr>\n",
       "\t<tr><th scope=row>sample2</th><td>F </td><td>II</td></tr>\n",
       "\t<tr><th scope=row>sample3</th><td>M </td><td>II</td></tr>\n",
       "\t<tr><th scope=row>sample4</th><td>F </td><td>I </td></tr>\n",
       "\t<tr><th scope=row>sample5</th><td>M </td><td>II</td></tr>\n",
       "\t<tr><th scope=row>sample6</th><td>F </td><td>II</td></tr>\n",
       "\t<tr><th scope=row>sample7</th><td>M </td><td>I </td></tr>\n",
       "\t<tr><th scope=row>sample8</th><td>F </td><td>II</td></tr>\n",
       "\t<tr><th scope=row>sample9</th><td>M </td><td>II</td></tr>\n",
       "\t<tr><th scope=row>sample10</th><td>F </td><td>I </td></tr>\n",
       "\t<tr><th scope=row>sample11</th><td>M </td><td>II</td></tr>\n",
       "\t<tr><th scope=row>sample12</th><td>F </td><td>II</td></tr>\n",
       "</tbody>\n",
       "</table>\n"
      ],
      "text/latex": [
       "\\begin{tabular}{r|ll}\n",
       "  & sex & stage\\\\\n",
       "\\hline\n",
       "\tsample1 & M  & I \\\\\n",
       "\tsample2 & F  & II\\\\\n",
       "\tsample3 & M  & II\\\\\n",
       "\tsample4 & F  & I \\\\\n",
       "\tsample5 & M  & II\\\\\n",
       "\tsample6 & F  & II\\\\\n",
       "\tsample7 & M  & I \\\\\n",
       "\tsample8 & F  & II\\\\\n",
       "\tsample9 & M  & II\\\\\n",
       "\tsample10 & F  & I \\\\\n",
       "\tsample11 & M  & II\\\\\n",
       "\tsample12 & F  & II\\\\\n",
       "\\end{tabular}\n"
      ],
      "text/markdown": [
       "\n",
       "| <!--/--> | sex | stage |\n",
       "|---|---|---|\n",
       "| sample1 | M  | I  |\n",
       "| sample2 | F  | II |\n",
       "| sample3 | M  | II |\n",
       "| sample4 | F  | I  |\n",
       "| sample5 | M  | II |\n",
       "| sample6 | F  | II |\n",
       "| sample7 | M  | I  |\n",
       "| sample8 | F  | II |\n",
       "| sample9 | M  | II |\n",
       "| sample10 | F  | I  |\n",
       "| sample11 | M  | II |\n",
       "| sample12 | F  | II |\n",
       "\n"
      ],
      "text/plain": [
       "         sex stage\n",
       "sample1  M   I    \n",
       "sample2  F   II   \n",
       "sample3  M   II   \n",
       "sample4  F   I    \n",
       "sample5  M   II   \n",
       "sample6  F   II   \n",
       "sample7  M   I    \n",
       "sample8  F   II   \n",
       "sample9  M   II   \n",
       "sample10 F   I    \n",
       "sample11 M   II   \n",
       "sample12 F   II   "
      ]
     },
     "metadata": {},
     "output_type": "display_data"
    }
   ],
   "source": [
    "meta[c('sex','stage')]"
   ]
  },
  {
   "cell_type": "markdown",
   "metadata": {},
   "source": [
    "return the treatment values for samples 5, 7, 9, and 10 using []:"
   ]
  },
  {
   "cell_type": "code",
   "execution_count": 42,
   "metadata": {},
   "outputs": [
    {
     "data": {
      "text/html": [
       "<table>\n",
       "<thead><tr><th></th><th scope=col>sex</th><th scope=col>stage</th><th scope=col>treatment</th><th scope=col>myc</th></tr></thead>\n",
       "<tbody>\n",
       "\t<tr><th scope=row>sample5</th><td>M   </td><td>II  </td><td>B   </td><td>3450</td></tr>\n",
       "\t<tr><th scope=row>sample7</th><td>M   </td><td>I   </td><td>B   </td><td> 958</td></tr>\n",
       "\t<tr><th scope=row>sample9</th><td>M   </td><td>II  </td><td>P   </td><td>8674</td></tr>\n",
       "\t<tr><th scope=row>sample10</th><td>F   </td><td>I   </td><td>P   </td><td>3424</td></tr>\n",
       "</tbody>\n",
       "</table>\n"
      ],
      "text/latex": [
       "\\begin{tabular}{r|llll}\n",
       "  & sex & stage & treatment & myc\\\\\n",
       "\\hline\n",
       "\tsample5 & M    & II   & B    & 3450\\\\\n",
       "\tsample7 & M    & I    & B    &  958\\\\\n",
       "\tsample9 & M    & II   & P    & 8674\\\\\n",
       "\tsample10 & F    & I    & P    & 3424\\\\\n",
       "\\end{tabular}\n"
      ],
      "text/markdown": [
       "\n",
       "| <!--/--> | sex | stage | treatment | myc |\n",
       "|---|---|---|---|---|\n",
       "| sample5 | M    | II   | B    | 3450 |\n",
       "| sample7 | M    | I    | B    |  958 |\n",
       "| sample9 | M    | II   | P    | 8674 |\n",
       "| sample10 | F    | I    | P    | 3424 |\n",
       "\n"
      ],
      "text/plain": [
       "         sex stage treatment myc \n",
       "sample5  M   II    B         3450\n",
       "sample7  M   I     B          958\n",
       "sample9  M   II    P         8674\n",
       "sample10 F   I     P         3424"
      ]
     },
     "metadata": {},
     "output_type": "display_data"
    }
   ],
   "source": [
    "meta[c(5,7,9,10),]"
   ]
  },
  {
   "cell_type": "markdown",
   "metadata": {},
   "source": [
    "use filter() to return all data for those samples receiving treatment P:"
   ]
  },
  {
   "cell_type": "code",
   "execution_count": 72,
   "metadata": {},
   "outputs": [
    {
     "data": {
      "text/html": [
       "<table>\n",
       "<thead><tr><th scope=col>sex</th><th scope=col>stage</th><th scope=col>treatment</th><th scope=col>myc</th></tr></thead>\n",
       "<tbody>\n",
       "\t<tr><td>M   </td><td>II  </td><td>P   </td><td>8674</td></tr>\n",
       "\t<tr><td>F   </td><td>I   </td><td>P   </td><td>3424</td></tr>\n",
       "\t<tr><td>M   </td><td>II  </td><td>P   </td><td> 463</td></tr>\n",
       "\t<tr><td>F   </td><td>II  </td><td>P   </td><td>5105</td></tr>\n",
       "</tbody>\n",
       "</table>\n"
      ],
      "text/latex": [
       "\\begin{tabular}{r|llll}\n",
       " sex & stage & treatment & myc\\\\\n",
       "\\hline\n",
       "\t M    & II   & P    & 8674\\\\\n",
       "\t F    & I    & P    & 3424\\\\\n",
       "\t M    & II   & P    &  463\\\\\n",
       "\t F    & II   & P    & 5105\\\\\n",
       "\\end{tabular}\n"
      ],
      "text/markdown": [
       "\n",
       "| sex | stage | treatment | myc |\n",
       "|---|---|---|---|\n",
       "| M    | II   | P    | 8674 |\n",
       "| F    | I    | P    | 3424 |\n",
       "| M    | II   | P    |  463 |\n",
       "| F    | II   | P    | 5105 |\n",
       "\n"
      ],
      "text/plain": [
       "  sex stage treatment myc \n",
       "1 M   II    P         8674\n",
       "2 F   I     P         3424\n",
       "3 M   II    P          463\n",
       "4 F   II    P         5105"
      ]
     },
     "metadata": {},
     "output_type": "display_data"
    }
   ],
   "source": [
    "meta%>%\n",
    "filter(treatment == 'P')"
   ]
  },
  {
   "cell_type": "markdown",
   "metadata": {},
   "source": [
    "use filter()/select()to return only the stage and treatment columns for those samples with myc > 5000:"
   ]
  },
  {
   "cell_type": "code",
   "execution_count": 83,
   "metadata": {},
   "outputs": [
    {
     "data": {
      "text/html": [
       "<table>\n",
       "<thead><tr><th scope=col>treatment</th><th scope=col>stage</th></tr></thead>\n",
       "<tbody>\n",
       "\t<tr><td>A </td><td>I </td></tr>\n",
       "\t<tr><td>P </td><td>II</td></tr>\n",
       "\t<tr><td>P </td><td>II</td></tr>\n",
       "</tbody>\n",
       "</table>\n"
      ],
      "text/latex": [
       "\\begin{tabular}{r|ll}\n",
       " treatment & stage\\\\\n",
       "\\hline\n",
       "\t A  & I \\\\\n",
       "\t P  & II\\\\\n",
       "\t P  & II\\\\\n",
       "\\end{tabular}\n"
      ],
      "text/markdown": [
       "\n",
       "| treatment | stage |\n",
       "|---|---|\n",
       "| A  | I  |\n",
       "| P  | II |\n",
       "| P  | II |\n",
       "\n"
      ],
      "text/plain": [
       "  treatment stage\n",
       "1 A         I    \n",
       "2 P         II   \n",
       "3 P         II   "
      ]
     },
     "metadata": {},
     "output_type": "display_data"
    }
   ],
   "source": [
    "meta%>%\n",
    "select(treatment,stage)%>%\n",
    "filter(myc>5000)"
   ]
  },
  {
   "cell_type": "markdown",
   "metadata": {},
   "source": [
    "remove the treatment column from the dataset using []:"
   ]
  },
  {
   "cell_type": "code",
   "execution_count": 105,
   "metadata": {},
   "outputs": [],
   "source": [
    "meta[3] <- NULL"
   ]
  },
  {
   "cell_type": "markdown",
   "metadata": {},
   "source": [
    "remove samples 7, 8 and 9 from the dataset using []:"
   ]
  },
  {
   "cell_type": "code",
   "execution_count": 116,
   "metadata": {},
   "outputs": [
    {
     "data": {
      "text/html": [
       "<table>\n",
       "<thead><tr><th></th><th scope=col>sex</th><th scope=col>stage</th><th scope=col>treatment</th><th scope=col>myc</th></tr></thead>\n",
       "<tbody>\n",
       "\t<tr><th scope=row>sample1</th><td>M   </td><td>I   </td><td>A   </td><td>2343</td></tr>\n",
       "\t<tr><th scope=row>sample2</th><td>F   </td><td>II  </td><td>A   </td><td> 457</td></tr>\n",
       "\t<tr><th scope=row>sample3</th><td>M   </td><td>II  </td><td>A   </td><td>4593</td></tr>\n",
       "\t<tr><th scope=row>sample4</th><td>F   </td><td>I   </td><td>A   </td><td>9035</td></tr>\n",
       "\t<tr><th scope=row>sample5</th><td>M   </td><td>II  </td><td>B   </td><td>3450</td></tr>\n",
       "\t<tr><th scope=row>sample6</th><td>F   </td><td>II  </td><td>B   </td><td>3524</td></tr>\n",
       "\t<tr><th scope=row>sample10</th><td>F   </td><td>I   </td><td>P   </td><td>3424</td></tr>\n",
       "\t<tr><th scope=row>sample11</th><td>M   </td><td>II  </td><td>P   </td><td> 463</td></tr>\n",
       "\t<tr><th scope=row>sample12</th><td>F   </td><td>II  </td><td>P   </td><td>5105</td></tr>\n",
       "</tbody>\n",
       "</table>\n"
      ],
      "text/latex": [
       "\\begin{tabular}{r|llll}\n",
       "  & sex & stage & treatment & myc\\\\\n",
       "\\hline\n",
       "\tsample1 & M    & I    & A    & 2343\\\\\n",
       "\tsample2 & F    & II   & A    &  457\\\\\n",
       "\tsample3 & M    & II   & A    & 4593\\\\\n",
       "\tsample4 & F    & I    & A    & 9035\\\\\n",
       "\tsample5 & M    & II   & B    & 3450\\\\\n",
       "\tsample6 & F    & II   & B    & 3524\\\\\n",
       "\tsample10 & F    & I    & P    & 3424\\\\\n",
       "\tsample11 & M    & II   & P    &  463\\\\\n",
       "\tsample12 & F    & II   & P    & 5105\\\\\n",
       "\\end{tabular}\n"
      ],
      "text/markdown": [
       "\n",
       "| <!--/--> | sex | stage | treatment | myc |\n",
       "|---|---|---|---|---|\n",
       "| sample1 | M    | I    | A    | 2343 |\n",
       "| sample2 | F    | II   | A    |  457 |\n",
       "| sample3 | M    | II   | A    | 4593 |\n",
       "| sample4 | F    | I    | A    | 9035 |\n",
       "| sample5 | M    | II   | B    | 3450 |\n",
       "| sample6 | F    | II   | B    | 3524 |\n",
       "| sample10 | F    | I    | P    | 3424 |\n",
       "| sample11 | M    | II   | P    |  463 |\n",
       "| sample12 | F    | II   | P    | 5105 |\n",
       "\n"
      ],
      "text/plain": [
       "         sex stage treatment myc \n",
       "sample1  M   I     A         2343\n",
       "sample2  F   II    A          457\n",
       "sample3  M   II    A         4593\n",
       "sample4  F   I     A         9035\n",
       "sample5  M   II    B         3450\n",
       "sample6  F   II    B         3524\n",
       "sample10 F   I     P         3424\n",
       "sample11 M   II    P          463\n",
       "sample12 F   II    P         5105"
      ]
     },
     "metadata": {},
     "output_type": "display_data"
    }
   ],
   "source": [
    "\n",
    "\n",
    "me = meta[-c(7, 8, 9),]\n",
    "\n",
    "me\n"
   ]
  },
  {
   "cell_type": "markdown",
   "metadata": {},
   "source": [
    "keep only samples 1-6 using []:"
   ]
  },
  {
   "cell_type": "code",
   "execution_count": 124,
   "metadata": {},
   "outputs": [
    {
     "data": {
      "text/html": [
       "<table>\n",
       "<thead><tr><th></th><th scope=col>A</th><th scope=col>B</th><th scope=col>C</th><th scope=col>D</th></tr></thead>\n",
       "<tbody>\n",
       "\t<tr><th scope=row>sample1</th><td>M   </td><td>I   </td><td>A   </td><td>2343</td></tr>\n",
       "\t<tr><th scope=row>sample2</th><td>F   </td><td>II  </td><td>A   </td><td> 457</td></tr>\n",
       "\t<tr><th scope=row>sample3</th><td>M   </td><td>II  </td><td>A   </td><td>4593</td></tr>\n",
       "\t<tr><th scope=row>sample4</th><td>F   </td><td>I   </td><td>A   </td><td>9035</td></tr>\n",
       "\t<tr><th scope=row>sample5</th><td>M   </td><td>II  </td><td>B   </td><td>3450</td></tr>\n",
       "\t<tr><th scope=row>sample6</th><td>F   </td><td>II  </td><td>B   </td><td>3524</td></tr>\n",
       "</tbody>\n",
       "</table>\n"
      ],
      "text/latex": [
       "\\begin{tabular}{r|llll}\n",
       "  & A & B & C & D\\\\\n",
       "\\hline\n",
       "\tsample1 & M    & I    & A    & 2343\\\\\n",
       "\tsample2 & F    & II   & A    &  457\\\\\n",
       "\tsample3 & M    & II   & A    & 4593\\\\\n",
       "\tsample4 & F    & I    & A    & 9035\\\\\n",
       "\tsample5 & M    & II   & B    & 3450\\\\\n",
       "\tsample6 & F    & II   & B    & 3524\\\\\n",
       "\\end{tabular}\n"
      ],
      "text/markdown": [
       "\n",
       "| <!--/--> | A | B | C | D |\n",
       "|---|---|---|---|---|\n",
       "| sample1 | M    | I    | A    | 2343 |\n",
       "| sample2 | F    | II   | A    |  457 |\n",
       "| sample3 | M    | II   | A    | 4593 |\n",
       "| sample4 | F    | I    | A    | 9035 |\n",
       "| sample5 | M    | II   | B    | 3450 |\n",
       "| sample6 | F    | II   | B    | 3524 |\n",
       "\n"
      ],
      "text/plain": [
       "        A B  C D   \n",
       "sample1 M I  A 2343\n",
       "sample2 F II A  457\n",
       "sample3 M II A 4593\n",
       "sample4 F I  A 9035\n",
       "sample5 M II B 3450\n",
       "sample6 F II B 3524"
      ]
     },
     "metadata": {},
     "output_type": "display_data"
    }
   ],
   "source": [
    "meta[c(1:6),]"
   ]
  },
  {
   "cell_type": "markdown",
   "metadata": {},
   "source": [
    "add a column called pre_treatment to the beginning of the dataframe with the values T, F, F, F, T, T, F, T, F, F, T, T (Hint: use cbind()):"
   ]
  },
  {
   "cell_type": "code",
   "execution_count": 121,
   "metadata": {},
   "outputs": [
    {
     "data": {
      "text/html": [
       "<table>\n",
       "<thead><tr><th></th><th scope=col>sex</th><th scope=col>stage</th><th scope=col>treatment</th><th scope=col>myc</th><th scope=col>new</th></tr></thead>\n",
       "<tbody>\n",
       "\t<tr><th scope=row>sample1</th><td>M   </td><td>I   </td><td>A   </td><td>2343</td><td>T   </td></tr>\n",
       "\t<tr><th scope=row>sample2</th><td>F   </td><td>II  </td><td>A   </td><td> 457</td><td>F   </td></tr>\n",
       "\t<tr><th scope=row>sample3</th><td>M   </td><td>II  </td><td>A   </td><td>4593</td><td>F   </td></tr>\n",
       "\t<tr><th scope=row>sample4</th><td>F   </td><td>I   </td><td>A   </td><td>9035</td><td> F  </td></tr>\n",
       "\t<tr><th scope=row>sample5</th><td>M   </td><td>II  </td><td>B   </td><td>3450</td><td>T   </td></tr>\n",
       "\t<tr><th scope=row>sample6</th><td>F   </td><td>II  </td><td>B   </td><td>3524</td><td>T   </td></tr>\n",
       "\t<tr><th scope=row>sample7</th><td>M   </td><td>I   </td><td>B   </td><td> 958</td><td>F   </td></tr>\n",
       "\t<tr><th scope=row>sample8</th><td>F   </td><td>II  </td><td>B   </td><td>1053</td><td>T   </td></tr>\n",
       "\t<tr><th scope=row>sample9</th><td>M   </td><td>II  </td><td>P   </td><td>8674</td><td>F   </td></tr>\n",
       "\t<tr><th scope=row>sample10</th><td>F   </td><td>I   </td><td>P   </td><td>3424</td><td>F   </td></tr>\n",
       "\t<tr><th scope=row>sample11</th><td>M   </td><td>II  </td><td>P   </td><td> 463</td><td>T   </td></tr>\n",
       "\t<tr><th scope=row>sample12</th><td>F   </td><td>II  </td><td>P   </td><td>5105</td><td>T   </td></tr>\n",
       "</tbody>\n",
       "</table>\n"
      ],
      "text/latex": [
       "\\begin{tabular}{r|lllll}\n",
       "  & sex & stage & treatment & myc & new\\\\\n",
       "\\hline\n",
       "\tsample1 & M    & I    & A    & 2343 & T   \\\\\n",
       "\tsample2 & F    & II   & A    &  457 & F   \\\\\n",
       "\tsample3 & M    & II   & A    & 4593 & F   \\\\\n",
       "\tsample4 & F    & I    & A    & 9035 &  F  \\\\\n",
       "\tsample5 & M    & II   & B    & 3450 & T   \\\\\n",
       "\tsample6 & F    & II   & B    & 3524 & T   \\\\\n",
       "\tsample7 & M    & I    & B    &  958 & F   \\\\\n",
       "\tsample8 & F    & II   & B    & 1053 & T   \\\\\n",
       "\tsample9 & M    & II   & P    & 8674 & F   \\\\\n",
       "\tsample10 & F    & I    & P    & 3424 & F   \\\\\n",
       "\tsample11 & M    & II   & P    &  463 & T   \\\\\n",
       "\tsample12 & F    & II   & P    & 5105 & T   \\\\\n",
       "\\end{tabular}\n"
      ],
      "text/markdown": [
       "\n",
       "| <!--/--> | sex | stage | treatment | myc | new |\n",
       "|---|---|---|---|---|---|\n",
       "| sample1 | M    | I    | A    | 2343 | T    |\n",
       "| sample2 | F    | II   | A    |  457 | F    |\n",
       "| sample3 | M    | II   | A    | 4593 | F    |\n",
       "| sample4 | F    | I    | A    | 9035 |  F   |\n",
       "| sample5 | M    | II   | B    | 3450 | T    |\n",
       "| sample6 | F    | II   | B    | 3524 | T    |\n",
       "| sample7 | M    | I    | B    |  958 | F    |\n",
       "| sample8 | F    | II   | B    | 1053 | T    |\n",
       "| sample9 | M    | II   | P    | 8674 | F    |\n",
       "| sample10 | F    | I    | P    | 3424 | F    |\n",
       "| sample11 | M    | II   | P    |  463 | T    |\n",
       "| sample12 | F    | II   | P    | 5105 | T    |\n",
       "\n"
      ],
      "text/plain": [
       "         sex stage treatment myc  new\n",
       "sample1  M   I     A         2343 T  \n",
       "sample2  F   II    A          457 F  \n",
       "sample3  M   II    A         4593 F  \n",
       "sample4  F   I     A         9035  F \n",
       "sample5  M   II    B         3450 T  \n",
       "sample6  F   II    B         3524 T  \n",
       "sample7  M   I     B          958 F  \n",
       "sample8  F   II    B         1053 T  \n",
       "sample9  M   II    P         8674 F  \n",
       "sample10 F   I     P         3424 F  \n",
       "sample11 M   II    P          463 T  \n",
       "sample12 F   II    P         5105 T  "
      ]
     },
     "metadata": {},
     "output_type": "display_data"
    }
   ],
   "source": [
    "new = (pre_treatment=c('T', 'F', 'F',' F', 'T', 'T', 'F', 'T', 'F', 'F', 'T', 'T'))\n",
    "newmeta =cbind(meta,new)\n",
    "newmeta"
   ]
  },
  {
   "cell_type": "code",
   "execution_count": 123,
   "metadata": {},
   "outputs": [
    {
     "data": {
      "text/html": [
       "<table>\n",
       "<thead><tr><th></th><th scope=col>A</th><th scope=col>B</th><th scope=col>C</th><th scope=col>D</th></tr></thead>\n",
       "<tbody>\n",
       "\t<tr><th scope=row>sample1</th><td>M   </td><td>I   </td><td>A   </td><td>2343</td></tr>\n",
       "\t<tr><th scope=row>sample2</th><td>F   </td><td>II  </td><td>A   </td><td> 457</td></tr>\n",
       "\t<tr><th scope=row>sample3</th><td>M   </td><td>II  </td><td>A   </td><td>4593</td></tr>\n",
       "\t<tr><th scope=row>sample4</th><td>F   </td><td>I   </td><td>A   </td><td>9035</td></tr>\n",
       "\t<tr><th scope=row>sample5</th><td>M   </td><td>II  </td><td>B   </td><td>3450</td></tr>\n",
       "\t<tr><th scope=row>sample6</th><td>F   </td><td>II  </td><td>B   </td><td>3524</td></tr>\n",
       "\t<tr><th scope=row>sample7</th><td>M   </td><td>I   </td><td>B   </td><td> 958</td></tr>\n",
       "\t<tr><th scope=row>sample8</th><td>F   </td><td>II  </td><td>B   </td><td>1053</td></tr>\n",
       "\t<tr><th scope=row>sample9</th><td>M   </td><td>II  </td><td>P   </td><td>8674</td></tr>\n",
       "\t<tr><th scope=row>sample10</th><td>F   </td><td>I   </td><td>P   </td><td>3424</td></tr>\n",
       "\t<tr><th scope=row>sample11</th><td>M   </td><td>II  </td><td>P   </td><td> 463</td></tr>\n",
       "\t<tr><th scope=row>sample12</th><td>F   </td><td>II  </td><td>P   </td><td>5105</td></tr>\n",
       "</tbody>\n",
       "</table>\n"
      ],
      "text/latex": [
       "\\begin{tabular}{r|llll}\n",
       "  & A & B & C & D\\\\\n",
       "\\hline\n",
       "\tsample1 & M    & I    & A    & 2343\\\\\n",
       "\tsample2 & F    & II   & A    &  457\\\\\n",
       "\tsample3 & M    & II   & A    & 4593\\\\\n",
       "\tsample4 & F    & I    & A    & 9035\\\\\n",
       "\tsample5 & M    & II   & B    & 3450\\\\\n",
       "\tsample6 & F    & II   & B    & 3524\\\\\n",
       "\tsample7 & M    & I    & B    &  958\\\\\n",
       "\tsample8 & F    & II   & B    & 1053\\\\\n",
       "\tsample9 & M    & II   & P    & 8674\\\\\n",
       "\tsample10 & F    & I    & P    & 3424\\\\\n",
       "\tsample11 & M    & II   & P    &  463\\\\\n",
       "\tsample12 & F    & II   & P    & 5105\\\\\n",
       "\\end{tabular}\n"
      ],
      "text/markdown": [
       "\n",
       "| <!--/--> | A | B | C | D |\n",
       "|---|---|---|---|---|\n",
       "| sample1 | M    | I    | A    | 2343 |\n",
       "| sample2 | F    | II   | A    |  457 |\n",
       "| sample3 | M    | II   | A    | 4593 |\n",
       "| sample4 | F    | I    | A    | 9035 |\n",
       "| sample5 | M    | II   | B    | 3450 |\n",
       "| sample6 | F    | II   | B    | 3524 |\n",
       "| sample7 | M    | I    | B    |  958 |\n",
       "| sample8 | F    | II   | B    | 1053 |\n",
       "| sample9 | M    | II   | P    | 8674 |\n",
       "| sample10 | F    | I    | P    | 3424 |\n",
       "| sample11 | M    | II   | P    |  463 |\n",
       "| sample12 | F    | II   | P    | 5105 |\n",
       "\n"
      ],
      "text/plain": [
       "         A B  C D   \n",
       "sample1  M I  A 2343\n",
       "sample2  F II A  457\n",
       "sample3  M II A 4593\n",
       "sample4  F I  A 9035\n",
       "sample5  M II B 3450\n",
       "sample6  F II B 3524\n",
       "sample7  M I  B  958\n",
       "sample8  F II B 1053\n",
       "sample9  M II P 8674\n",
       "sample10 F I  P 3424\n",
       "sample11 M II P  463\n",
       "sample12 F II P 5105"
      ]
     },
     "metadata": {},
     "output_type": "display_data"
    }
   ],
   "source": [
    "colnames(meta) = c(\"A\", \"B\", \"C\",\"D\")\n",
    "meta"
   ]
  },
  {
   "cell_type": "code",
   "execution_count": null,
   "metadata": {},
   "outputs": [],
   "source": []
  }
 ],
 "metadata": {
  "kernelspec": {
   "display_name": "R",
   "language": "R",
   "name": "ir"
  },
  "language_info": {
   "codemirror_mode": "r",
   "file_extension": ".r",
   "mimetype": "text/x-r-source",
   "name": "R",
   "pygments_lexer": "r",
   "version": "3.6.1"
  }
 },
 "nbformat": 4,
 "nbformat_minor": 4
}
