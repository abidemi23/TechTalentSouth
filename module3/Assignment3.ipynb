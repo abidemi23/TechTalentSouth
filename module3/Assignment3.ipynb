{
 "cells": [
  {
   "cell_type": "markdown",
   "metadata": {},
   "source": [
    "Exercise 1\n",
    "Guess a number between 1 to 9 given by the user"
   ]
  },
  {
   "cell_type": "code",
   "execution_count": 1,
   "metadata": {},
   "outputs": [
    {
     "name": "stdout",
     "output_type": "stream",
     "text": [
      "give a number: 4\n",
      "your num is 4 ours is 1 we got it wrong!\n"
     ]
    }
   ],
   "source": [
    "import random\n",
    "n = random.randint(0,9)\n",
    "y = int(input(\"give a number: \"))\n",
    "\n",
    "if n is y:\n",
    "    print(\"your num is \" + str(y) + \" ours is \" + str(n) + \" we got it right!\")\n",
    "else:\n",
    "    print(\"your num is \" + str(y) + \" ours is \" + str(n) + \" we got it wrong!\")"
   ]
  },
  {
   "cell_type": "markdown",
   "metadata": {},
   "source": [
    "Exercise 2\n",
    "Check the validity of password input by the user.\n",
    "\n",
    "Validation:\n",
    "\n",
    "At least 1 letter between [a-z]and 1 letter between [A-Z]\n",
    "\n",
    "At least 1 number between [0-9]\n",
    "\n",
    "At least 1 character from [$#@]\n",
    "\n",
    "Minimum length 6 characters\n",
    "\n",
    "Maximum length 16 characters"
   ]
  },
  {
   "cell_type": "code",
   "execution_count": 8,
   "metadata": {},
   "outputs": [
    {
     "name": "stdout",
     "output_type": "stream",
     "text": [
      "write your password : A# bidemi233\n",
      "valid password\n"
     ]
    }
   ],
   "source": [
    "\n",
    "import re\n",
    "\n",
    "p = input(\"write your password : \")\n",
    "x = True\n",
    "while x:\n",
    "    if (len(p)<6 or len(p)>16):\n",
    "        break\n",
    "    elif not re.search (\"[a-z]\",p):\n",
    "        break\n",
    "    elif not re.search (\"[0-9]\",p):\n",
    "        break\n",
    "    elif not re.search (\"[A-Z]\",p):\n",
    "        break\n",
    "    elif not re.search (\"[$#@]\",p):\n",
    "        break\n",
    "    elif not re.search (\"\\s\",p):\n",
    "        break\n",
    "    else:\n",
    "        print('valid password')\n",
    "        x = False\n",
    "        break\n",
    "        \n",
    "if x:\n",
    "    print(\"Not a valid password\")"
   ]
  },
  {
   "cell_type": "markdown",
   "metadata": {},
   "source": [
    "Exercise 3\n",
    "\n",
    "Get input of the age of 3 people by user and determine oldest and youngest among them"
   ]
  },
  {
   "cell_type": "code",
   "execution_count": 45,
   "metadata": {},
   "outputs": [
    {
     "name": "stdout",
     "output_type": "stream",
     "text": [
      "what is your name esther\n",
      "what is your name tolu\n",
      "what is your name jide\n",
      "what is your age 78\n",
      "what is your age 90\n",
      "what is your age 88\n",
      "The youngest is esther who is 78 years old\n",
      "The oldest is tolu who is 90 years old\n"
     ]
    }
   ],
   "source": [
    "person1 = input(\"what is your name \")\n",
    "person2 = input('what is your name ')\n",
    "person3 = input(\"what is your name \")\n",
    "age1 = int(input('what is your age '))\n",
    "age2 = int(input('what is your age '))\n",
    "age3 = int(input('what is your age '))\n",
    "\n",
    "people_dict = {}\n",
    "people_dict[person1] = age1\n",
    "people_dict[person2] = age2\n",
    "people_dict[person3] = age3\n",
    "\n",
    "for k, v in people_dict.items():\n",
    "    if v == max(people_dict.values()):\n",
    "        print(\"The oldest is \" + k +  ' who is ' + str(v) + \" years old\")\n",
    "    if v == min(people_dict.values()):\n",
    "        print(\"The youngest is \" + k +  ' who is ' + str(v) + \" years old\")\n",
    " \n"
   ]
  },
  {
   "cell_type": "markdown",
   "metadata": {},
   "source": [
    "Exercise 4\n",
    "\n",
    "A student will not be allowed to sit in exam if his/her attendance is less than 75%.\n",
    "\n",
    "Take following input from user\n",
    "\n",
    "Number of classes held\n",
    "\n",
    "Number of classes attended.\n",
    "\n",
    "And print\n",
    "\n",
    "percentage of class attended\n",
    "\n",
    "Is student is allowed to sit in exam or not?"
   ]
  },
  {
   "cell_type": "code",
   "execution_count": 62,
   "metadata": {},
   "outputs": [
    {
     "name": "stdout",
     "output_type": "stream",
     "text": [
      "How many classes held : 44\n",
      "How many classes did you attend : 33\n",
      "75.0\n",
      "Student is allowed to sit in exams\n"
     ]
    }
   ],
   "source": [
    "class_held = int(input(\"How many classes held : \" ))\n",
    "\n",
    "class_atten = int(input(\"How many classes did you attend : \" ))\n",
    "\n",
    "percen = ((class_atten/class_held)*100)\n",
    "\n",
    "print(percen)\n",
    "\n",
    "if percen < 75:\n",
    "    print(\"Student is not allowed to sit in exams\")\n",
    "else:\n",
    "    print(\"Student is allowed to sit in exams\")"
   ]
  },
  {
   "cell_type": "markdown",
   "metadata": {},
   "source": [
    "Exercise 5\n",
    "\n",
    "Get an integer N from the user and perform the following actions:\n",
    "\n",
    "if N is odd, print \"weird\"\n",
    "\n",
    "if N is even and in the inclusive range of 2 to 5, print \"Not Weird\"\n",
    "\n",
    "if N is even and in the inclusive range of 6 to 20, print \"Weird\"\n",
    "\n",
    "if N is even and greater than 20, print \"Not Weird\""
   ]
  },
  {
   "cell_type": "code",
   "execution_count": 67,
   "metadata": {},
   "outputs": [
    {
     "name": "stdout",
     "output_type": "stream",
     "text": [
      "Kindly put in an integer : 20\n",
      "Not Weird\n"
     ]
    }
   ],
   "source": [
    "N = int(input(\"Kindly put in an integer : \"))\n",
    "\n",
    "if N % 2 == 1:\n",
    "    message = \"weird\"\n",
    "elif N % 2 == 0 and range(2,5):\n",
    "    message = \"Not Weird\"\n",
    "elif N % 2 == 0 and range(6,20):\n",
    "    message = \"Weird\"\n",
    "elif N % 2 == 0 and N>20:\n",
    "    message = \"Not Weird\"\n",
    "\n",
    "print(message)\n",
    "        \n"
   ]
  },
  {
   "cell_type": "code",
   "execution_count": null,
   "metadata": {},
   "outputs": [],
   "source": []
  }
 ],
 "metadata": {
  "kernelspec": {
   "display_name": "Python 3",
   "language": "python",
   "name": "python3"
  },
  "language_info": {
   "codemirror_mode": {
    "name": "ipython",
    "version": 3
   },
   "file_extension": ".py",
   "mimetype": "text/x-python",
   "name": "python",
   "nbconvert_exporter": "python",
   "pygments_lexer": "ipython3",
   "version": "3.8.3"
  }
 },
 "nbformat": 4,
 "nbformat_minor": 4
}
