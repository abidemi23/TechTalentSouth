{
 "cells": [
  {
   "cell_type": "markdown",
   "metadata": {},
   "source": [
    "https://www.youtube.com/watch?v=ZDa-Z5JzLYM"
   ]
  },
  {
   "cell_type": "markdown",
   "metadata": {},
   "source": [
    "classes allow to to be able to use classes again."
   ]
  },
  {
   "cell_type": "code",
   "execution_count": null,
   "metadata": {},
   "outputs": [],
   "source": [
    "class Employee:\n",
    "    def__init__(self,first,last,pay):\n",
    "        self.first= first\n",
    "        self.last = last\n",
    "        self.pay = pay\n",
    "        self.email = first + '.' + last + '@company.com'\n",
    "        \n",
    "        \n",
    "emp1 = Employee()\n",
    "emp2 = Employee()\n",
    "\n",
    "emp1.first = 'esther'\n",
    "emp1.last = 'oye'\n",
    "emp1.email= 'esther.oye@gamil.com'\n",
    "emp1.pay = 50000\n",
    "\n",
    "emp2.first = 'ope'\n",
    "emp2.last = 'ola'\n",
    "emp2.email= 'ope.ola@gamil.com'\n",
    "emp2.pay = 70000\n",
    "\n",
    "print"
   ]
  }
 ],
 "metadata": {
  "kernelspec": {
   "display_name": "Python 3",
   "language": "python",
   "name": "python3"
  },
  "language_info": {
   "codemirror_mode": {
    "name": "ipython",
    "version": 3
   },
   "file_extension": ".py",
   "mimetype": "text/x-python",
   "name": "python",
   "nbconvert_exporter": "python",
   "pygments_lexer": "ipython3",
   "version": "3.8.3"
  }
 },
 "nbformat": 4,
 "nbformat_minor": 4
}
