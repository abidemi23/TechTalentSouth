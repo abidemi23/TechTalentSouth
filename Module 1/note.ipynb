{
 "cells": [
  {
   "cell_type": "markdown",
   "metadata": {},
   "source": [
    "###### Week 1 class 1\n",
    "\n",
    "Commit - This command gives git its power, when you commit you are taking a snapshot of your repository, giving you a checkpoint to which you can reevalute and restore project to any previous state.\n",
    "\n",
    "Branch - Helps people do multiple work on a project without git getting them confused. Usually they branch off the main main project with their own versions full of changes they have made. After they are done merge branch back with master.\n",
    "\n",
    "Forking - When you create a new project off another project that already exists\n",
    "\n",
    "Pull requests - you forked a repository, made a great revision to the project and want it to be recognized by the original owner, you do so by creating a pull request. The authors of original repo will see your work and choose to accept it or not to official project.\n",
    "\n",
    "What is data science - is a process of using data to understand bthe world . Art of uncovering trends hiding beside a data. It is translating data into a story. Being able to explain the story to non-technical members of an organization\n",
    "\n",
    "Python Vernacular\n",
    "\n",
    "API - Application programming interface, a protocol specification on how various parts, usually libraries,communicate with each other  e.g DP API\n",
    "\n",
    "Library-  Anything that is not an application - In python a library is a module, usually with submodules\n",
    "\n",
    "Package - Collection of python modules under a common namespace.A package is created by placing multiple python modules in a directory with a special init.py module file.\n",
    "\n",
    "\n",
    "How to run python code\n",
    "\n",
    "It is interpreted not compiled. It is executed line by line\n",
    "\n",
    "python interpreter, Ipython interpreter, self contained scripts or jupyter notebook\n",
    "\n",
    "\n",
    "Ipython - interactive python bundled with anaconda distribution\n",
    "\n",
    "Difference between Ipython & python, python uses >>> by default while Ipython In[1]:\n",
    "\n",
    "Self contained python scripts- pyhton scripts are saved in a .py extenison\n",
    "\n"
   ]
  },
  {
   "cell_type": "markdown",
   "metadata": {},
   "source": [
    "# Basic python Syntax\n",
    "\n",
    "Syntax refers to the structure of the language\n",
    "\n",
    "1)COMMENTS ARE MARKED BY #\n",
    "\n",
    "2)END OF LINE TERMINATES A STATEMENT \n",
    "\n",
    "SEMI-COLON CAN OPTIONALLY TERMINATE A STATEMENT - This can be used to put multiple statements in a single line\n",
    "lower =[]; upper = [] same as\n",
    "lower = []\n",
    "upper = []\n",
    "\n",
    "same line is discouraged\n",
    "\n",
    "3)INDENTATION : White space matters\n",
    " \n",
    "A block of code is a set of statement that should be treated as a unit, code of blocks are denoted by indentation. Indented code are precede by a colon :\n",
    "\n",
    "4)WHITE SPACES WITHIN LINES DO NOT MATTER - it might matter before code\n",
    "\n",
    "5)PARENTHESES ARE FOR GROUPING OR CALLING\n",
    "\n",
    "They can be used to indicate a function is being called\n",
    "\n",
    "print('first value: ', 1)\n",
    "\n",
    "L = [4,2,3,1]\n",
    "L.sort()\n",
    "print(L)\n",
    "[1,2,3,4]\n",
    "\n",
    "The \"()\" after sort indicates that the function should be executed, and is required even if no arguments are necessary.\n",
    "\n",
    "\n"
   ]
  },
  {
   "cell_type": "markdown",
   "metadata": {},
   "source": [
    "# Variables and objects\n",
    "Semantics involves meaning of a statement\n",
    "\n",
    "1)Python variables are pointers\n"
   ]
  },
  {
   "cell_type": "code",
   "execution_count": 3,
   "metadata": {},
   "outputs": [
    {
     "name": "stdout",
     "output_type": "stream",
     "text": [
      "[1, 2, 3]\n"
     ]
    }
   ],
   "source": [
    "x = [1,2,3]\n",
    "y = x\n",
    "print(y)"
   ]
  },
  {
   "cell_type": "code",
   "execution_count": 4,
   "metadata": {},
   "outputs": [
    {
     "name": "stdout",
     "output_type": "stream",
     "text": [
      "[1, 2, 3, 4]\n"
     ]
    }
   ],
   "source": [
    "x.append(4)\n",
    "print(y)"
   ]
  },
  {
   "cell_type": "code",
   "execution_count": 5,
   "metadata": {},
   "outputs": [
    {
     "name": "stdout",
     "output_type": "stream",
     "text": [
      "x = 15\n",
      "y = 10\n"
     ]
    }
   ],
   "source": [
    "x = 10\n",
    "y = x\n",
    "x += 5  # add 5 to x's value, and assign it to x\n",
    "print(\"x =\", x)\n",
    "print(\"y =\", y)"
   ]
  },
  {
   "cell_type": "markdown",
   "metadata": {},
   "source": [
    "# Everything is an object\n"
   ]
  },
  {
   "cell_type": "markdown",
   "metadata": {},
   "source": [
    "python has types, but these are not linked to the variable names but to the objects themselves.\n",
    "An object is an entity that contains data along with associated metadata and functionalityi.e every object has metadata(attrtibutes) and functionality(methods). Attributes and methods are accessed via the dot syntax"
   ]
  },
  {
   "cell_type": "code",
   "execution_count": 6,
   "metadata": {},
   "outputs": [
    {
     "name": "stdout",
     "output_type": "stream",
     "text": [
      "4.5 + 0.0 i\n"
     ]
    }
   ],
   "source": [
    "x = 4.5\n",
    "print(x.real, \"+\", x.imag, 'i')"
   ]
  },
  {
   "cell_type": "code",
   "execution_count": 7,
   "metadata": {},
   "outputs": [
    {
     "data": {
      "text/plain": [
       "False"
      ]
     },
     "execution_count": 7,
     "metadata": {},
     "output_type": "execute_result"
    }
   ],
   "source": [
    "x = 4.5\n",
    "x.is_integer()"
   ]
  },
  {
   "cell_type": "code",
   "execution_count": 8,
   "metadata": {},
   "outputs": [
    {
     "data": {
      "text/plain": [
       "True"
      ]
     },
     "execution_count": 8,
     "metadata": {},
     "output_type": "execute_result"
    }
   ],
   "source": [
    "x = 4.0\n",
    "x.is_integer()"
   ]
  },
  {
   "cell_type": "markdown",
   "metadata": {},
   "source": [
    "# Operators"
   ]
  },
  {
   "cell_type": "markdown",
   "metadata": {},
   "source": [
    "Operator\tName\tDescription\n",
    "a + b\tAddition\tSum of a and b\n",
    "a - b\tSubtraction\tDifference of a and b\n",
    "a * b\tMultiplication\tProduct of a and b\n",
    "a / b\tTrue division\tQuotient of a and b\n",
    "a // b\tFloor division\tQuotient of a and b, removing fractional parts\n",
    "a % b\tModulus\tInteger remainder after division of a by b\n",
    "a ** b\tExponentiation\ta raised to the power of b\n",
    "-a\tNegation\tThe negative of a\n",
    "+a\tUnary plus\ta unchanged (rarely used)"
   ]
  },
  {
   "cell_type": "code",
   "execution_count": 9,
   "metadata": {},
   "outputs": [
    {
     "data": {
      "text/plain": [
       "42.0"
      ]
     },
     "execution_count": 9,
     "metadata": {},
     "output_type": "execute_result"
    }
   ],
   "source": [
    "# addition, subtraction, multiplication\n",
    "(4 + 8) * (6.5 - 3)"
   ]
  },
  {
   "cell_type": "markdown",
   "metadata": {},
   "source": [
    "# Bitwise Operations"
   ]
  },
  {
   "cell_type": "markdown",
   "metadata": {},
   "source": [
    "Operator\tName\tDescription\n",
    "a & b\tBitwise AND\tBits defined in both a and b\n",
    "a | b\tBitwise OR\tBits defined in a or b or both\n",
    "a ^ b\tBitwise XOR\tBits defined in a or b but not both\n",
    "a << b\tBit shift left\tShift bits of a left by b units\n",
    "a >> b\tBit shift right\tShift bits of a right by b units\n",
    "~a\tBitwise NOT\tBitwise negation of a"
   ]
  },
  {
   "cell_type": "code",
   "execution_count": 10,
   "metadata": {},
   "outputs": [
    {
     "data": {
      "text/plain": [
       "'0b1010'"
      ]
     },
     "execution_count": 10,
     "metadata": {},
     "output_type": "execute_result"
    }
   ],
   "source": [
    "bin(10)"
   ]
  },
  {
   "cell_type": "code",
   "execution_count": 11,
   "metadata": {},
   "outputs": [
    {
     "data": {
      "text/plain": [
       "14"
      ]
     },
     "execution_count": 11,
     "metadata": {},
     "output_type": "execute_result"
    }
   ],
   "source": [
    "#number that combine the bits of 4 and 10\n",
    "4 | 10"
   ]
  },
  {
   "cell_type": "code",
   "execution_count": 12,
   "metadata": {},
   "outputs": [
    {
     "data": {
      "text/plain": [
       "'0b1110'"
      ]
     },
     "execution_count": 12,
     "metadata": {},
     "output_type": "execute_result"
    }
   ],
   "source": [
    "bin(4 | 10)"
   ]
  },
  {
   "cell_type": "markdown",
   "metadata": {},
   "source": [
    "# Assignment Operations"
   ]
  },
  {
   "cell_type": "code",
   "execution_count": 13,
   "metadata": {},
   "outputs": [
    {
     "name": "stdout",
     "output_type": "stream",
     "text": [
      "24\n"
     ]
    }
   ],
   "source": [
    "a = 24\n",
    "print(a)"
   ]
  },
  {
   "cell_type": "code",
   "execution_count": 15,
   "metadata": {},
   "outputs": [
    {
     "name": "stdout",
     "output_type": "stream",
     "text": [
      "26\n"
     ]
    }
   ],
   "source": [
    "a += 2 # equivalent to a = a + 2\n",
    "print(a)\n",
    "    \n",
    "    "
   ]
  },
  {
   "cell_type": "markdown",
   "metadata": {},
   "source": [
    "a += b\ta -= b\ta *= b\ta /= b\n",
    "a //= b\ta %= b\ta **= b\ta &= b\n",
    "a |= b\ta ^= b\ta <<= b\ta >>= b\n",
    "\n",
    "a -=b is equivalent to a= a-b"
   ]
  },
  {
   "cell_type": "markdown",
   "metadata": {},
   "source": [
    "# Comparison Operations"
   ]
  },
  {
   "cell_type": "markdown",
   "metadata": {},
   "source": [
    "Operation\tDescription\t\tOperation\tDescription\n",
    "a == b\ta equal to b\t\ta != b\ta not equal to b\n",
    "a < b\ta less than b\t\ta > b\ta greater than b\n",
    "a <= b\ta less than or equal to b\t\ta >= b\ta greater than or equal to b"
   ]
  },
  {
   "cell_type": "code",
   "execution_count": 18,
   "metadata": {},
   "outputs": [
    {
     "data": {
      "text/plain": [
       "True"
      ]
     },
     "execution_count": 18,
     "metadata": {},
     "output_type": "execute_result"
    }
   ],
   "source": [
    "# 25 is odd\n",
    "25 % 2 == 1"
   ]
  },
  {
   "cell_type": "code",
   "execution_count": 19,
   "metadata": {},
   "outputs": [
    {
     "data": {
      "text/plain": [
       "True"
      ]
     },
     "execution_count": 19,
     "metadata": {},
     "output_type": "execute_result"
    }
   ],
   "source": [
    "# check if a is between 15 and 30\n",
    "a = 25\n",
    "15 < a < 30"
   ]
  },
  {
   "cell_type": "markdown",
   "metadata": {},
   "source": [
    "Recall that ~ is the bit-flip operator, and evidently when you flip all the bits of zero you end up with -1"
   ]
  },
  {
   "cell_type": "markdown",
   "metadata": {},
   "source": [
    "# Boolean operations"
   ]
  },
  {
   "cell_type": "markdown",
   "metadata": {},
   "source": [
    "when working with boolean values, python provides operators to combine values using and, or, and not"
   ]
  },
  {
   "cell_type": "code",
   "execution_count": 20,
   "metadata": {},
   "outputs": [
    {
     "data": {
      "text/plain": [
       "True"
      ]
     },
     "execution_count": 20,
     "metadata": {},
     "output_type": "execute_result"
    }
   ],
   "source": [
    "x = 4\n",
    "(x < 6) and (x > 2)"
   ]
  },
  {
   "cell_type": "code",
   "execution_count": 21,
   "metadata": {},
   "outputs": [
    {
     "data": {
      "text/plain": [
       "True"
      ]
     },
     "execution_count": 21,
     "metadata": {},
     "output_type": "execute_result"
    }
   ],
   "source": [
    "(x > 10) or (x % 2 == 0)"
   ]
  },
  {
   "cell_type": "code",
   "execution_count": 22,
   "metadata": {},
   "outputs": [
    {
     "data": {
      "text/plain": [
       "False"
      ]
     },
     "execution_count": 22,
     "metadata": {},
     "output_type": "execute_result"
    }
   ],
   "source": [
    "not (x < 6)"
   ]
  },
  {
   "cell_type": "code",
   "execution_count": 23,
   "metadata": {},
   "outputs": [
    {
     "data": {
      "text/plain": [
       "False"
      ]
     },
     "execution_count": 23,
     "metadata": {},
     "output_type": "execute_result"
    }
   ],
   "source": [
    "# (x > 1) xor (x < 10)\n",
    "(x > 1) != (x < 10)"
   ]
  },
  {
   "cell_type": "markdown",
   "metadata": {},
   "source": [
    "# Identity and Membership Operators"
   ]
  },
  {
   "cell_type": "markdown",
   "metadata": {},
   "source": [
    "Operator\tDescription\n",
    "a is b\tTrue if a and b are identical objects #identity operator\n",
    "a is not b\tTrue if a and b are not identical objects #identity operator\n",
    "a in b\tTrue if a is a member of b #membership operator\n",
    "a not in b\tTrue if a is not a member of b  #membership operator"
   ]
  },
  {
   "cell_type": "code",
   "execution_count": 24,
   "metadata": {},
   "outputs": [],
   "source": [
    "a = [1, 2, 3]\n",
    "b = [1, 2, 3]"
   ]
  },
  {
   "cell_type": "code",
   "execution_count": 25,
   "metadata": {},
   "outputs": [
    {
     "data": {
      "text/plain": [
       "True"
      ]
     },
     "execution_count": 25,
     "metadata": {},
     "output_type": "execute_result"
    }
   ],
   "source": [
    "a == b"
   ]
  },
  {
   "cell_type": "code",
   "execution_count": 26,
   "metadata": {},
   "outputs": [
    {
     "data": {
      "text/plain": [
       "False"
      ]
     },
     "execution_count": 26,
     "metadata": {},
     "output_type": "execute_result"
    }
   ],
   "source": [
    "a is b"
   ]
  },
  {
   "cell_type": "code",
   "execution_count": 27,
   "metadata": {},
   "outputs": [
    {
     "data": {
      "text/plain": [
       "True"
      ]
     },
     "execution_count": 27,
     "metadata": {},
     "output_type": "execute_result"
    }
   ],
   "source": [
    "a = [1, 2, 3]\n",
    "b = a\n",
    "a is b"
   ]
  },
  {
   "cell_type": "code",
   "execution_count": null,
   "metadata": {},
   "outputs": [],
   "source": []
  }
 ],
 "metadata": {
  "kernelspec": {
   "display_name": "Python 3",
   "language": "python",
   "name": "python3"
  },
  "language_info": {
   "codemirror_mode": {
    "name": "ipython",
    "version": 3
   },
   "file_extension": ".py",
   "mimetype": "text/x-python",
   "name": "python",
   "nbconvert_exporter": "python",
   "pygments_lexer": "ipython3",
   "version": "3.8.3"
  }
 },
 "nbformat": 4,
 "nbformat_minor": 4
}
