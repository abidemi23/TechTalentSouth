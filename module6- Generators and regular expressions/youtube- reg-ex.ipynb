{
 "cells": [
  {
   "cell_type": "markdown",
   "metadata": {},
   "source": [
    "# Youtube- regular expression\n"
   ]
  },
  {
   "cell_type": "code",
   "execution_count": 22,
   "metadata": {},
   "outputs": [
    {
     "name": "stdout",
     "output_type": "stream",
     "text": [
      "<re.Match object; span=(12, 24), match='615-234-7164'>\n",
      "<re.Match object; span=(102, 114), match='800-555-5669'>\n",
      "<re.Match object; span=(191, 203), match='560-555-5153'>\n"
     ]
    }
   ],
   "source": [
    "import re\n",
    "\n",
    "# checking a multi line text\n",
    "\n",
    "text_to_search = '''\n",
    "abcdefghijklmnopqrstuvwxyz\n",
    "ABCDEFGHIJKLMNOPQRSTUVWXYZ\n",
    "1234567890\n",
    "\n",
    "Ha HaHa\n",
    "\n",
    "MetaCharacters(Need to be escaped):\n",
    ". ^ $ * + ? { } [ ] \\ | ( )\n",
    "\n",
    "coreyms.com\n",
    "\n",
    "321-555-4321\n",
    "123.555.1234\n",
    "124*444*9898\n",
    "\n",
    "Mr.Schafer\n",
    "Mr Smith\n",
    "Ms Davis\n",
    "Mrs. Robinson\n",
    "Mr. T\n",
    "'''\n",
    "sentence = 'Start a sentence and then bring it to an end'\n",
    "\n",
    "#write expression and serach for pattern\n",
    "#write pattern\n",
    "pattern = re.compile(r'\\d\\d\\d.\\d\\d\\d.\\d\\d\\d\\d') #the compile method allows us to separate patterns into variables and reuse the variables\n",
    "# also can be (r'\\d{3}.\\d{3}.\\d{4}')\n",
    "#search through text\n",
    "#pattern = re.compile(r'\\d\\d\\d[-.]\\d\\d\\d[-.]\\d\\d\\d\\d) This matches dash or dot is called characterset\n",
    "#pattern = re.compiler(r'[89]00[-.]\\d\\d\\d[-.]\\d\\d\\d\\d') prints numbers that start with 800 or 900\n",
    "#(r'Mr\\.?\\s[A-Z]\\w+')                      #(r'[a-zA-Z]') match alphabets #(r'[^a-zA-Z]') matches what is not alphabets\n",
    "                        #(r'Mr\\.?\\s[A-Z]') this code is to match mr that has 1 or 0 dot(?)/space/A-Z\n",
    "#Groups allow us to match several patterns(r'M(r|s|rs)\\.?\\s[A-Z\\w*])\n",
    "    \n",
    "cat\n",
    "mat\n",
    "pat\n",
    "bat\n",
    "#match everything that ends with at but doesnt start with b (r'[^b]at')\n",
    "    \n",
    "matches = pattern.finditer(text_to_search)\n",
    "\n",
    "\n",
    "#for match in matches:\n",
    "    #print(match)\n",
    "\n",
    "    #pattern = re.compiler(r'^Start') to match start of a sentence\n",
    "    #                     (r'end$') to match end of a sentence\n",
    "\n",
    "with open('data.txt', 'r') as f:\n",
    "    contents = f.read()\n",
    "    matches = pattern.finditer(contents)\n",
    "    for match in matches:\n",
    "        print(match)"
   ]
  },
  {
   "cell_type": "code",
   "execution_count": null,
   "metadata": {},
   "outputs": [],
   "source": []
  },
  {
   "cell_type": "markdown",
   "metadata": {},
   "source": [
    ". - matches any character except new line\n",
    "\\d - digit(0-9)\n",
    "\\D - not a digit\n",
    "\\w - word character( a-z, A-Z, 0-9,_)\n",
    "\\W - not a word character\n",
    "\\s - whitespace(space, tab, newline)\n",
    "\\S - Not whitespace(space,tab,newline)\n",
    "\\b - word boundary\n",
    "\\B - not a word boundary\n",
    "^ - beginning of a string\n",
    "$ - end of a string\n",
    "[] - matches character in brackets\n",
    "[^ ] - matches characters not in brackets\n",
    "| - either or\n",
    "() - group\n",
    "* - 0 or more\n",
    "+ - 1 or more\n",
    "? - 0 or one\n",
    "{3} - eaxct number\n",
    "{3,4} - range of numbers(minimum,maximum)\n",
    "\n"
   ]
  },
  {
   "cell_type": "code",
   "execution_count": 36,
   "metadata": {},
   "outputs": [
    {
     "name": "stdout",
     "output_type": "stream",
     "text": [
      "<re.Match object; span=(1, 24), match='CoreyMSchafer@gmail.com'>\n",
      "<re.Match object; span=(25, 52), match='corey.chafer@university.edu'>\n",
      "<re.Match object; span=(63, 82), match='schafer@my-work.net'>\n"
     ]
    }
   ],
   "source": [
    "import re\n",
    "emails = '''\n",
    "CoreyMSchafer@gmail.com\n",
    "corey.chafer@university.edu\n",
    "corey-321-schafer@my-work.net\n",
    "'''\n",
    "\n",
    "#pattern = re.compile(r'[a-zA-z]+@[a-zA-z]+\\.com')#match first email\n",
    "pattern = re.compile(r'[a-zA-z0-9.]+@[a-zA-z-]+\\.(com|edu|net)')#match the next email\n",
    "matches = pattern.finditer(emails)\n",
    "\n",
    "for match in matches:\n",
    "    print(match)\n",
    "                    "
   ]
  },
  {
   "cell_type": "code",
   "execution_count": 49,
   "metadata": {},
   "outputs": [
    {
     "name": "stdout",
     "output_type": "stream",
     "text": [
      "\n",
      "www.google.com\n",
      "coreyms.com\n",
      "youtibe.com\n",
      "www.nasa.gov\n",
      "\n"
     ]
    }
   ],
   "source": [
    "import re\n",
    "\n",
    "urls = '''\n",
    "https://www.google.com\n",
    "http://coreyms.com\n",
    "https://youtibe.com\n",
    "https://www.nasa.gov\n",
    "'''\n",
    "pattern = re.compile(r'https?://(www\\.)?(\\w+)(\\.\\w+)')\n",
    "#matches = pattern.finditer(urls)\n",
    "\n",
    "#for match in matches:\n",
    "    #print(match)\n",
    "   #print(match.group(0)) matches everything \n",
    "#print(match.group(1)) matches optional www\n",
    "#group 2 domain name\n",
    "#group 3 matches, .com,.gov\n",
    "\n",
    "#back references\n",
    "subbed_urls = pattern.sub(r'\\1\\2\\3',urls)\n",
    "print(subbed_urls)"
   ]
  },
  {
   "cell_type": "code",
   "execution_count": 47,
   "metadata": {},
   "outputs": [
    {
     "name": "stdout",
     "output_type": "stream",
     "text": [
      "<re.Match object; span=(0, 1), match='I'>\n"
     ]
    }
   ],
   "source": [
    "import re\n",
    "sentence = \"I love jesus\"\n",
    "#pattern = re.compile(r'love')\n",
    "pattern = re.compile(r'i',re.IGNORECASE)#this ignores case \n",
    "match = pattern.match(sentence)#matches only things at the beginnin\n",
    "        #pattern.search matches anything in the sentence\n",
    "\n",
    "\n",
    "print(match)"
   ]
  },
  {
   "cell_type": "markdown",
   "metadata": {},
   "source": [
    "flags\n",
    "re.compile(r'start', re.I)"
   ]
  }
 ],
 "metadata": {
  "kernelspec": {
   "display_name": "Python 3",
   "language": "python",
   "name": "python3"
  },
  "language_info": {
   "codemirror_mode": {
    "name": "ipython",
    "version": 3
   },
   "file_extension": ".py",
   "mimetype": "text/x-python",
   "name": "python",
   "nbconvert_exporter": "python",
   "pygments_lexer": "ipython3",
   "version": "3.8.3"
  }
 },
 "nbformat": 4,
 "nbformat_minor": 4
}
